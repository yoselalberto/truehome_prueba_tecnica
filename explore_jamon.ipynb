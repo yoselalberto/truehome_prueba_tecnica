{
 "metadata": {
  "language_info": {
   "codemirror_mode": {
    "name": "ipython",
    "version": 3
   },
   "file_extension": ".py",
   "mimetype": "text/x-python",
   "name": "python",
   "nbconvert_exporter": "python",
   "pygments_lexer": "ipython3",
   "version": "3.8.2-final"
  },
  "orig_nbformat": 2,
  "kernelspec": {
   "name": "python3",
   "display_name": "Python 3",
   "language": "python"
  }
 },
 "nbformat": 4,
 "nbformat_minor": 2,
 "cells": [
  {
   "cell_type": "code",
   "execution_count": 2,
   "metadata": {},
   "outputs": [],
   "source": [
    "import pandas as pd"
   ]
  },
  {
   "cell_type": "code",
   "execution_count": 7,
   "metadata": {},
   "outputs": [],
   "source": [
    "# data\n",
    "path_jamon     = 'work/datasets/score_de_jamonosidad.csv'\n",
    "path_jamon_new = 'work/datasets/jamones_por_calificar.csv'"
   ]
  },
  {
   "cell_type": "code",
   "execution_count": 8,
   "metadata": {},
   "outputs": [],
   "source": [
    "# loading\n",
    "score = pd.read_csv(path_jamon)"
   ]
  },
  {
   "cell_type": "code",
   "execution_count": 9,
   "metadata": {},
   "outputs": [
    {
     "output_type": "execute_result",
     "data": {
      "text/plain": [
       "    jamon  score    v1    v2    v3\n",
       "0       1     10  1985  59.7  2205\n",
       "1       2     11  2855  55.0  2096\n",
       "2       3     11  1737  65.6  1847\n",
       "3       4     13  2905  61.4  1903\n",
       "4       5     10  1666  66.1  1457\n",
       "5       6     11  2927  61.0  1848\n",
       "6       7     10  2341  66.1  1564\n",
       "7       8     11  2737  58.9  2476\n",
       "8       9      4  1414  57.0  2577\n",
       "9      10      2  1838  58.9  2476\n",
       "10     11      7  1480  68.5  1984\n",
       "11     12     10  2191  59.2  1901\n",
       "12     13      9  2229  58.8  1761\n",
       "13     14      9  2204  58.6  1709\n",
       "14     15      6  2140  59.2  1901\n",
       "15     16      5  1730  54.4  2288\n",
       "16     17      5  2072  49.6  2072\n",
       "17     18      5  2929  54.3  2861\n",
       "18     19      6  2268  58.7  2411\n",
       "19     20      4  1983  51.7  2289\n",
       "20     21      3  1792  61.9  2203\n",
       "21     22      3  1606  52.7  2592\n",
       "22     23      4  1492  57.8  2053\n",
       "23     24     10  2835  59.7  1979\n",
       "24     25      6  2416  54.9  2048\n",
       "25     26      8  1638  65.3  1786\n",
       "26     27      2  2649  43.8  2876\n",
       "27     28      0  1503  53.5  2560"
      ],
      "text/html": "<div>\n<style scoped>\n    .dataframe tbody tr th:only-of-type {\n        vertical-align: middle;\n    }\n\n    .dataframe tbody tr th {\n        vertical-align: top;\n    }\n\n    .dataframe thead th {\n        text-align: right;\n    }\n</style>\n<table border=\"1\" class=\"dataframe\">\n  <thead>\n    <tr style=\"text-align: right;\">\n      <th></th>\n      <th>jamon</th>\n      <th>score</th>\n      <th>v1</th>\n      <th>v2</th>\n      <th>v3</th>\n    </tr>\n  </thead>\n  <tbody>\n    <tr>\n      <th>0</th>\n      <td>1</td>\n      <td>10</td>\n      <td>1985</td>\n      <td>59.7</td>\n      <td>2205</td>\n    </tr>\n    <tr>\n      <th>1</th>\n      <td>2</td>\n      <td>11</td>\n      <td>2855</td>\n      <td>55.0</td>\n      <td>2096</td>\n    </tr>\n    <tr>\n      <th>2</th>\n      <td>3</td>\n      <td>11</td>\n      <td>1737</td>\n      <td>65.6</td>\n      <td>1847</td>\n    </tr>\n    <tr>\n      <th>3</th>\n      <td>4</td>\n      <td>13</td>\n      <td>2905</td>\n      <td>61.4</td>\n      <td>1903</td>\n    </tr>\n    <tr>\n      <th>4</th>\n      <td>5</td>\n      <td>10</td>\n      <td>1666</td>\n      <td>66.1</td>\n      <td>1457</td>\n    </tr>\n    <tr>\n      <th>5</th>\n      <td>6</td>\n      <td>11</td>\n      <td>2927</td>\n      <td>61.0</td>\n      <td>1848</td>\n    </tr>\n    <tr>\n      <th>6</th>\n      <td>7</td>\n      <td>10</td>\n      <td>2341</td>\n      <td>66.1</td>\n      <td>1564</td>\n    </tr>\n    <tr>\n      <th>7</th>\n      <td>8</td>\n      <td>11</td>\n      <td>2737</td>\n      <td>58.9</td>\n      <td>2476</td>\n    </tr>\n    <tr>\n      <th>8</th>\n      <td>9</td>\n      <td>4</td>\n      <td>1414</td>\n      <td>57.0</td>\n      <td>2577</td>\n    </tr>\n    <tr>\n      <th>9</th>\n      <td>10</td>\n      <td>2</td>\n      <td>1838</td>\n      <td>58.9</td>\n      <td>2476</td>\n    </tr>\n    <tr>\n      <th>10</th>\n      <td>11</td>\n      <td>7</td>\n      <td>1480</td>\n      <td>68.5</td>\n      <td>1984</td>\n    </tr>\n    <tr>\n      <th>11</th>\n      <td>12</td>\n      <td>10</td>\n      <td>2191</td>\n      <td>59.2</td>\n      <td>1901</td>\n    </tr>\n    <tr>\n      <th>12</th>\n      <td>13</td>\n      <td>9</td>\n      <td>2229</td>\n      <td>58.8</td>\n      <td>1761</td>\n    </tr>\n    <tr>\n      <th>13</th>\n      <td>14</td>\n      <td>9</td>\n      <td>2204</td>\n      <td>58.6</td>\n      <td>1709</td>\n    </tr>\n    <tr>\n      <th>14</th>\n      <td>15</td>\n      <td>6</td>\n      <td>2140</td>\n      <td>59.2</td>\n      <td>1901</td>\n    </tr>\n    <tr>\n      <th>15</th>\n      <td>16</td>\n      <td>5</td>\n      <td>1730</td>\n      <td>54.4</td>\n      <td>2288</td>\n    </tr>\n    <tr>\n      <th>16</th>\n      <td>17</td>\n      <td>5</td>\n      <td>2072</td>\n      <td>49.6</td>\n      <td>2072</td>\n    </tr>\n    <tr>\n      <th>17</th>\n      <td>18</td>\n      <td>5</td>\n      <td>2929</td>\n      <td>54.3</td>\n      <td>2861</td>\n    </tr>\n    <tr>\n      <th>18</th>\n      <td>19</td>\n      <td>6</td>\n      <td>2268</td>\n      <td>58.7</td>\n      <td>2411</td>\n    </tr>\n    <tr>\n      <th>19</th>\n      <td>20</td>\n      <td>4</td>\n      <td>1983</td>\n      <td>51.7</td>\n      <td>2289</td>\n    </tr>\n    <tr>\n      <th>20</th>\n      <td>21</td>\n      <td>3</td>\n      <td>1792</td>\n      <td>61.9</td>\n      <td>2203</td>\n    </tr>\n    <tr>\n      <th>21</th>\n      <td>22</td>\n      <td>3</td>\n      <td>1606</td>\n      <td>52.7</td>\n      <td>2592</td>\n    </tr>\n    <tr>\n      <th>22</th>\n      <td>23</td>\n      <td>4</td>\n      <td>1492</td>\n      <td>57.8</td>\n      <td>2053</td>\n    </tr>\n    <tr>\n      <th>23</th>\n      <td>24</td>\n      <td>10</td>\n      <td>2835</td>\n      <td>59.7</td>\n      <td>1979</td>\n    </tr>\n    <tr>\n      <th>24</th>\n      <td>25</td>\n      <td>6</td>\n      <td>2416</td>\n      <td>54.9</td>\n      <td>2048</td>\n    </tr>\n    <tr>\n      <th>25</th>\n      <td>26</td>\n      <td>8</td>\n      <td>1638</td>\n      <td>65.3</td>\n      <td>1786</td>\n    </tr>\n    <tr>\n      <th>26</th>\n      <td>27</td>\n      <td>2</td>\n      <td>2649</td>\n      <td>43.8</td>\n      <td>2876</td>\n    </tr>\n    <tr>\n      <th>27</th>\n      <td>28</td>\n      <td>0</td>\n      <td>1503</td>\n      <td>53.5</td>\n      <td>2560</td>\n    </tr>\n  </tbody>\n</table>\n</div>"
     },
     "metadata": {},
     "execution_count": 9
    }
   ],
   "source": [
    "score"
   ]
  },
  {
   "cell_type": "code",
   "execution_count": null,
   "metadata": {},
   "outputs": [],
   "source": [
    "## ingenieria de variables\n",
    "# normalización\n",
    "# reducción de dimensionalidad\n",
    "# interacciones\n"
   ]
  }
 ]
}