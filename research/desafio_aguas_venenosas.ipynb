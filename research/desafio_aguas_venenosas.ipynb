{
 "metadata": {
  "language_info": {
   "codemirror_mode": {
    "name": "ipython",
    "version": 3
   },
   "file_extension": ".py",
   "mimetype": "text/x-python",
   "name": "python",
   "nbconvert_exporter": "python",
   "pygments_lexer": "ipython3",
   "version": "3.8.2-final"
  },
  "orig_nbformat": 2,
  "kernelspec": {
   "name": "python3",
   "display_name": "Python 3",
   "language": "python"
  }
 },
 "nbformat": 4,
 "nbformat_minor": 2,
 "cells": [
  {
   "source": [
    "# Aguas venenosas"
   ],
   "cell_type": "markdown",
   "metadata": {}
  },
  {
   "cell_type": "code",
   "execution_count": 10,
   "metadata": {},
   "outputs": [],
   "source": [
    "# dependencias\n",
    "import pandas as pd\n",
    "from seaborn import pairplot"
   ]
  },
  {
   "cell_type": "code",
   "execution_count": 2,
   "metadata": {},
   "outputs": [],
   "source": [
    "# data\n",
    "path_veneno   = 'work/datasets/veneno.csv'\n",
    "path_sustancias = 'work/datasets/sustancias_diversas.csv'"
   ]
  },
  {
   "cell_type": "code",
   "execution_count": 3,
   "metadata": {},
   "outputs": [],
   "source": [
    "# loading\n",
    "veneno_inicio   = pd.read_csv(path_veneno)\n",
    "sustancias = pd.read_csv(path_sustancias)"
   ]
  },
  {
   "source": [
    "## exploración inicial"
   ],
   "cell_type": "markdown",
   "metadata": {}
  },
  {
   "cell_type": "code",
   "execution_count": 4,
   "metadata": {},
   "outputs": [],
   "source": [
    "# remuevo columna extra\n",
    "veneno = veneno_inicio.drop(columns = 'caracteristica')"
   ]
  },
  {
   "cell_type": "code",
   "execution_count": 5,
   "metadata": {},
   "outputs": [
    {
     "output_type": "execute_result",
     "data": {
      "text/plain": [
       "   v1  v2      v3     v4      v5  v6    v7   v8   v9   v10\n",
       "0  21  56  2131.4  164.6  4527.9   1  2.09  3.8  538  23.7"
      ],
      "text/html": "<div>\n<style scoped>\n    .dataframe tbody tr th:only-of-type {\n        vertical-align: middle;\n    }\n\n    .dataframe tbody tr th {\n        vertical-align: top;\n    }\n\n    .dataframe thead th {\n        text-align: right;\n    }\n</style>\n<table border=\"1\" class=\"dataframe\">\n  <thead>\n    <tr style=\"text-align: right;\">\n      <th></th>\n      <th>v1</th>\n      <th>v2</th>\n      <th>v3</th>\n      <th>v4</th>\n      <th>v5</th>\n      <th>v6</th>\n      <th>v7</th>\n      <th>v8</th>\n      <th>v9</th>\n      <th>v10</th>\n    </tr>\n  </thead>\n  <tbody>\n    <tr>\n      <th>0</th>\n      <td>21</td>\n      <td>56</td>\n      <td>2131.4</td>\n      <td>164.6</td>\n      <td>4527.9</td>\n      <td>1</td>\n      <td>2.09</td>\n      <td>3.8</td>\n      <td>538</td>\n      <td>23.7</td>\n    </tr>\n  </tbody>\n</table>\n</div>"
     },
     "metadata": {},
     "execution_count": 5
    }
   ],
   "source": [
    "veneno"
   ]
  },
  {
   "source": [
    "### muestras"
   ],
   "cell_type": "markdown",
   "metadata": {}
  },
  {
   "cell_type": "code",
   "execution_count": 7,
   "metadata": {},
   "outputs": [
    {
     "output_type": "stream",
     "name": "stdout",
     "text": [
      "    id    v1    v2      v3     v4      v5   v6   v7   v8     v9   v10\n0  517  24.7  48.5  2449.5  133.0  5044.5  1.2  2.2  3.8  568.8  19.9\n1  226  21.0  56.2  2114.7  163.7  4559.6  1.0  2.1  3.8  542.8  23.7\n2  615  18.2  56.8  2055.4  150.3  4718.8  0.8  2.4  4.6  431.6  23.5\n3  390  20.8  56.0  2112.9  165.9  4503.9  1.0  2.1  3.8  533.9  23.9\n4  172  21.0  56.4  2146.7  166.0  4492.2  1.0  2.1  3.8  543.2  23.7\n      id    v1    v2      v3     v4      v5   v6   v7   v8     v9   v10\n495  699  25.1  61.7  2255.6  132.4  3990.4  1.1  2.4  4.2  502.3  20.6\n496  579  19.4  53.2  2203.3  182.1  4051.8  1.0  2.3  3.6  531.0  28.4\n497  338  20.9  56.2  2124.7  164.6  4513.6  1.0  2.1  3.8  537.2  23.8\n498  660  17.3  55.4  2121.1  153.7  4289.5  0.9  2.1  3.2  451.5  22.8\n499  522  22.3  63.4  2125.8  169.3  3805.5  1.2  2.5  3.1  627.2  21.5\n"
     ]
    }
   ],
   "source": [
    "print(sustancias.head())\n",
    "print(sustancias.tail())"
   ]
  },
  {
   "cell_type": "code",
   "execution_count": 9,
   "metadata": {},
   "outputs": [
    {
     "output_type": "execute_result",
     "data": {
      "text/plain": [
       "              id          v1          v2           v3          v4  \\\n",
       "count  500.00000  500.000000  500.000000   500.000000  500.000000   \n",
       "mean   487.33800   20.977800   55.915400  2122.973800  165.231200   \n",
       "std    289.23473    1.667359    4.483171   165.021963   13.069945   \n",
       "min      1.00000   16.800000   45.000000  1705.700000  132.100000   \n",
       "25%    233.75000   20.800000   55.400000  2111.050000  163.100000   \n",
       "50%    469.50000   21.000000   55.900000  2129.800000  164.750000   \n",
       "75%    745.25000   21.200000   56.500000  2147.625000  166.125000   \n",
       "max    995.00000   25.200000   67.200000  2556.800000  197.500000   \n",
       "\n",
       "                v5          v6          v7          v8          v9         v10  \n",
       "count   500.000000  500.000000  500.000000  500.000000  500.000000  500.000000  \n",
       "mean   4536.858200    1.001600    2.107600    3.799600  538.805200   23.677000  \n",
       "std     354.197585    0.086559    0.170765    0.315021   41.981127    1.976893  \n",
       "min    3624.600000    0.800000    1.700000    3.000000  430.700000   19.000000  \n",
       "25%    4485.775000    1.000000    2.100000    3.800000  532.875000   23.500000  \n",
       "50%    4532.750000    1.000000    2.100000    3.800000  537.100000   23.700000  \n",
       "75%    4572.550000    1.000000    2.100000    3.800000  542.800000   23.900000  \n",
       "max    5430.000000    1.200000    2.500000    4.600000  644.300000   28.400000  "
      ],
      "text/html": "<div>\n<style scoped>\n    .dataframe tbody tr th:only-of-type {\n        vertical-align: middle;\n    }\n\n    .dataframe tbody tr th {\n        vertical-align: top;\n    }\n\n    .dataframe thead th {\n        text-align: right;\n    }\n</style>\n<table border=\"1\" class=\"dataframe\">\n  <thead>\n    <tr style=\"text-align: right;\">\n      <th></th>\n      <th>id</th>\n      <th>v1</th>\n      <th>v2</th>\n      <th>v3</th>\n      <th>v4</th>\n      <th>v5</th>\n      <th>v6</th>\n      <th>v7</th>\n      <th>v8</th>\n      <th>v9</th>\n      <th>v10</th>\n    </tr>\n  </thead>\n  <tbody>\n    <tr>\n      <th>count</th>\n      <td>500.00000</td>\n      <td>500.000000</td>\n      <td>500.000000</td>\n      <td>500.000000</td>\n      <td>500.000000</td>\n      <td>500.000000</td>\n      <td>500.000000</td>\n      <td>500.000000</td>\n      <td>500.000000</td>\n      <td>500.000000</td>\n      <td>500.000000</td>\n    </tr>\n    <tr>\n      <th>mean</th>\n      <td>487.33800</td>\n      <td>20.977800</td>\n      <td>55.915400</td>\n      <td>2122.973800</td>\n      <td>165.231200</td>\n      <td>4536.858200</td>\n      <td>1.001600</td>\n      <td>2.107600</td>\n      <td>3.799600</td>\n      <td>538.805200</td>\n      <td>23.677000</td>\n    </tr>\n    <tr>\n      <th>std</th>\n      <td>289.23473</td>\n      <td>1.667359</td>\n      <td>4.483171</td>\n      <td>165.021963</td>\n      <td>13.069945</td>\n      <td>354.197585</td>\n      <td>0.086559</td>\n      <td>0.170765</td>\n      <td>0.315021</td>\n      <td>41.981127</td>\n      <td>1.976893</td>\n    </tr>\n    <tr>\n      <th>min</th>\n      <td>1.00000</td>\n      <td>16.800000</td>\n      <td>45.000000</td>\n      <td>1705.700000</td>\n      <td>132.100000</td>\n      <td>3624.600000</td>\n      <td>0.800000</td>\n      <td>1.700000</td>\n      <td>3.000000</td>\n      <td>430.700000</td>\n      <td>19.000000</td>\n    </tr>\n    <tr>\n      <th>25%</th>\n      <td>233.75000</td>\n      <td>20.800000</td>\n      <td>55.400000</td>\n      <td>2111.050000</td>\n      <td>163.100000</td>\n      <td>4485.775000</td>\n      <td>1.000000</td>\n      <td>2.100000</td>\n      <td>3.800000</td>\n      <td>532.875000</td>\n      <td>23.500000</td>\n    </tr>\n    <tr>\n      <th>50%</th>\n      <td>469.50000</td>\n      <td>21.000000</td>\n      <td>55.900000</td>\n      <td>2129.800000</td>\n      <td>164.750000</td>\n      <td>4532.750000</td>\n      <td>1.000000</td>\n      <td>2.100000</td>\n      <td>3.800000</td>\n      <td>537.100000</td>\n      <td>23.700000</td>\n    </tr>\n    <tr>\n      <th>75%</th>\n      <td>745.25000</td>\n      <td>21.200000</td>\n      <td>56.500000</td>\n      <td>2147.625000</td>\n      <td>166.125000</td>\n      <td>4572.550000</td>\n      <td>1.000000</td>\n      <td>2.100000</td>\n      <td>3.800000</td>\n      <td>542.800000</td>\n      <td>23.900000</td>\n    </tr>\n    <tr>\n      <th>max</th>\n      <td>995.00000</td>\n      <td>25.200000</td>\n      <td>67.200000</td>\n      <td>2556.800000</td>\n      <td>197.500000</td>\n      <td>5430.000000</td>\n      <td>1.200000</td>\n      <td>2.500000</td>\n      <td>4.600000</td>\n      <td>644.300000</td>\n      <td>28.400000</td>\n    </tr>\n  </tbody>\n</table>\n</div>"
     },
     "metadata": {},
     "execution_count": 9
    }
   ],
   "source": [
    "# estadistica descriptiva\n",
    "sustancias.describe()"
   ]
  },
  {
   "cell_type": "code",
   "execution_count": null,
   "metadata": {},
   "outputs": [],
   "source": [
    "# scatterplot\n",
    "pairplot(sustancias)"
   ]
  },
  {
   "cell_type": "code",
   "execution_count": null,
   "metadata": {},
   "outputs": [],
   "source": []
  }
 ]
}